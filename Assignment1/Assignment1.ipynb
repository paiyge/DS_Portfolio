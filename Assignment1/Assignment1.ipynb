{
 "cells": [
  {
   "cell_type": "code",
   "execution_count": 40,
   "metadata": {
    "id": "-ESgbRwahzOt"
   },
   "outputs": [],
   "source": [
    "from sklearn.datasets import load_breast_cancer\n",
    "from sklearn.model_selection import train_test_split\n",
    "from sklearn.preprocessing import StandardScaler, LabelEncoder\n",
    "from sklearn.pipeline import Pipeline\n",
    "from sklearn.metrics import accuracy_score, precision_score, recall_score, confusion_matrix\n",
    "\n",
    "import tensorflow as tf\n",
    "from tensorflow import keras\n",
    "from tensorflow.keras import layers\n",
    "from tensorflow.keras.models import Sequential\n",
    "from tensorflow.keras.layers import Dense, Dropout\n",
    "from sklearn.metrics import accuracy_score, precision_score, recall_score, confusion_matrix\n",
    "\n",
    "import seaborn as sns\n",
    "import matplotlib.pyplot as plt"
   ]
  },
  {
   "cell_type": "markdown",
   "metadata": {
    "id": "psWzQjC46_lh"
   },
   "source": [
    "# Step 1 Load and Preprocess Data:\n",
    "Load the Breast Cancer Wisconsin dataset using\n",
    "scikit-learn. Standardize the features to have zero mean and unit variance.\n",
    "Encode the labels (Malignant: 1, Benign: 0)."
   ]
  },
  {
   "cell_type": "code",
   "execution_count": 41,
   "metadata": {
    "id": "XL2EvPtAiIwP"
   },
   "outputs": [],
   "source": [
    "data = load_breast_cancer(return_X_y=True, as_frame=True)\n",
    "X, y = data"
   ]
  },
  {
   "cell_type": "markdown",
   "metadata": {
    "id": "xTDcQ5gQ_rXS"
   },
   "source": [
    "**Standardize** the features to have zero mean and unit variance."
   ]
  },
  {
   "cell_type": "code",
   "execution_count": 42,
   "metadata": {
    "colab": {
     "base_uri": "https://localhost:8080/"
    },
    "id": "iLMulXmu9HyM",
    "outputId": "26d501f7-a54b-44ca-e73d-239539a7838a"
   },
   "outputs": [
    {
     "name": "stdout",
     "output_type": "stream",
     "text": [
      "[[ 1.09706398 -2.07333501  1.26993369 ...  2.29607613  2.75062224\n",
      "   1.93701461]\n",
      " [ 1.82982061 -0.35363241  1.68595471 ...  1.0870843  -0.24388967\n",
      "   0.28118999]\n",
      " [ 1.57988811  0.45618695  1.56650313 ...  1.95500035  1.152255\n",
      "   0.20139121]\n",
      " ...\n",
      " [ 0.70228425  2.0455738   0.67267578 ...  0.41406869 -1.10454895\n",
      "  -0.31840916]\n",
      " [ 1.83834103  2.33645719  1.98252415 ...  2.28998549  1.91908301\n",
      "   2.21963528]\n",
      " [-1.80840125  1.22179204 -1.81438851 ... -1.74506282 -0.04813821\n",
      "  -0.75120669]]\n"
     ]
    }
   ],
   "source": [
    "scaler = StandardScaler()\n",
    "X_trans = scaler.fit_transform(X)\n",
    "print(X_trans)"
   ]
  },
  {
   "cell_type": "markdown",
   "metadata": {
    "id": "HziDHEjdA0BT"
   },
   "source": [
    "Encode the labels (Malignant: 1, Benign: 0).\n",
    "\n",
    "\n"
   ]
  },
  {
   "cell_type": "code",
   "execution_count": 43,
   "metadata": {
    "id": "VBlMOn_-96vA"
   },
   "outputs": [],
   "source": [
    "label_encoder = LabelEncoder()\n",
    "y_trans = label_encoder.fit_transform(y)"
   ]
  },
  {
   "cell_type": "code",
   "execution_count": 44,
   "metadata": {
    "colab": {
     "base_uri": "https://localhost:8080/"
    },
    "id": "NEvcBcWrAQ05",
    "outputId": "2d548039-ed2c-4e5f-8517-2b166602d5b5"
   },
   "outputs": [
    {
     "name": "stdout",
     "output_type": "stream",
     "text": [
      "[0 0 0 0 0 0 0 0 0 0 0 0 0 0 0 0 0 0 0 1 1 1 0 0 0 0 0 0 0 0 0 0 0 0 0 0 0\n",
      " 1 0 0 0 0 0 0 0 0 1 0 1 1 1 1 1 0 0 1 0 0 1 1 1 1 0 1 0 0 1 1 1 1 0 1 0 0\n",
      " 1 0 1 0 0 1 1 1 0 0 1 0 0 0 1 1 1 0 1 1 0 0 1 1 1 0 0 1 1 1 1 0 1 1 0 1 1\n",
      " 1 1 1 1 1 1 0 0 0 1 0 0 1 1 1 0 0 1 0 1 0 0 1 0 0 1 1 0 1 1 0 1 1 1 1 0 1\n",
      " 1 1 1 1 1 1 1 1 0 1 1 1 1 0 0 1 0 1 1 0 0 1 1 0 0 1 1 1 1 0 1 1 0 0 0 1 0\n",
      " 1 0 1 1 1 0 1 1 0 0 1 0 0 0 0 1 0 0 0 1 0 1 0 1 1 0 1 0 0 0 0 1 1 0 0 1 1\n",
      " 1 0 1 1 1 1 1 0 0 1 1 0 1 1 0 0 1 0 1 1 1 1 0 1 1 1 1 1 0 1 0 0 0 0 0 0 0\n",
      " 0 0 0 0 0 0 0 1 1 1 1 1 1 0 1 0 1 1 0 1 1 0 1 0 0 1 1 1 1 1 1 1 1 1 1 1 1\n",
      " 1 0 1 1 0 1 0 1 1 1 1 1 1 1 1 1 1 1 1 1 1 0 1 1 1 0 1 0 1 1 1 1 0 0 0 1 1\n",
      " 1 1 0 1 0 1 0 1 1 1 0 1 1 1 1 1 1 1 0 0 0 1 1 1 1 1 1 1 1 1 1 1 0 0 1 0 0\n",
      " 0 1 0 0 1 1 1 1 1 0 1 1 1 1 1 0 1 1 1 0 1 1 0 0 1 1 1 1 1 1 0 1 1 1 1 1 1\n",
      " 1 0 1 1 1 1 1 0 1 1 0 1 1 1 1 1 1 1 1 1 1 1 1 0 1 0 0 1 0 1 1 1 1 1 0 1 1\n",
      " 0 1 0 1 1 0 1 0 1 1 1 1 1 1 1 1 0 0 1 1 1 1 1 1 0 1 1 1 1 1 1 1 1 1 1 0 1\n",
      " 1 1 1 1 1 1 0 1 0 1 1 0 1 1 1 1 1 0 0 1 0 1 0 1 1 1 1 1 0 1 1 0 1 0 1 0 0\n",
      " 1 1 1 0 1 1 1 1 1 1 1 1 1 1 1 0 1 0 0 1 1 1 1 1 1 1 1 1 1 1 1 1 1 1 1 1 1\n",
      " 1 1 1 1 1 1 1 0 0 0 0 0 0 1]\n"
     ]
    }
   ],
   "source": [
    "print(y_trans)"
   ]
  },
  {
   "cell_type": "markdown",
   "metadata": {
    "id": "t4x88kFqA3im"
   },
   "source": [
    "# Step 2 Split Data:\n",
    "Split the dataset into training and testing sets using a reasonable\n",
    "split ratio (e.g., 80 percentage training, 20 percentage testing)."
   ]
  },
  {
   "cell_type": "code",
   "execution_count": 45,
   "metadata": {
    "id": "lfp7v-Zr9Qa-"
   },
   "outputs": [],
   "source": [
    "X_train, X_test, y_train, y_test = train_test_split(\n",
    "    X_trans, y_trans, test_size=0.2, random_state=17)"
   ]
  },
  {
   "cell_type": "code",
   "execution_count": 46,
   "metadata": {
    "colab": {
     "base_uri": "https://localhost:8080/"
    },
    "id": "AGKz3y8u9sby",
    "outputId": "045c32b0-a3b2-4867-9d16-55edc4a74b2a"
   },
   "outputs": [
    {
     "name": "stdout",
     "output_type": "stream",
     "text": [
      "X_test size: 114\n",
      "y size: 569\n",
      "X size: 569\n"
     ]
    }
   ],
   "source": [
    "print(f\"X_test size: {X_test.shape[0]}\")\n",
    "print(f\"y size: {y.shape[0]}\")\n",
    "print(f\"X size: {X.shape[0]}\")"
   ]
  },
  {
   "cell_type": "markdown",
   "metadata": {
    "id": "SElaJWIdCAI7"
   },
   "source": [
    "# Step 3 Build Shallow Neural Network:\n",
    "Create a Shallow Neural Network model using TensorFlow and Keras. Use a simple architecture with one hidden layer and an\n",
    "appropriate activation function."
   ]
  },
  {
   "cell_type": "code",
   "execution_count": 47,
   "metadata": {
    "id": "R-xyUiugCUvK"
   },
   "outputs": [],
   "source": [
    "model = Sequential()\n",
    "model.add(Dense(16, input_dim=X_train.shape[1], activation='relu'))\n",
    "model.add(Dense(8, activation='relu'))\n",
    "model.add(Dense(1, activation='sigmoid')) # as it is binary classification\n",
    "model.add(Dropout(rate=0.1))\n",
    "\n",
    "# number of neurons based on hidden layer in the paper\n",
    "# also used A Beginner’s Guide to Shallow Neural Network om medium"
   ]
  },
  {
   "cell_type": "markdown",
   "metadata": {
    "id": "MPxwJP_rCiWr"
   },
   "source": [
    "Compile the model with binary cross-entropy\n",
    "loss and the Adam optimizer.\n"
   ]
  },
  {
   "cell_type": "code",
   "execution_count": 48,
   "metadata": {
    "id": "FE-I3ak5ChgE"
   },
   "outputs": [],
   "source": [
    "model.compile(optimizer='adam',\n",
    "              loss='binary_crossentropy',\n",
    "              metrics=['accuracy'])"
   ]
  },
  {
   "cell_type": "markdown",
   "metadata": {
    "id": "XFl-6JXwFgT9"
   },
   "source": [
    "# Step 4 Train the Model:\n",
    "Train the model on the training set for a sufficient number\n",
    "of epochs. Monitor the training process and consider using validation data to\n",
    "prevent over-fitting."
   ]
  },
  {
   "cell_type": "code",
   "execution_count": 49,
   "metadata": {
    "colab": {
     "base_uri": "https://localhost:8080/"
    },
    "id": "wecRjjNsFf3U",
    "outputId": "35cedc0f-26c2-4a49-c9b8-3aadb5b33ca4"
   },
   "outputs": [
    {
     "name": "stdout",
     "output_type": "stream",
     "text": [
      "Epoch 1/150\n",
      "13/13 [==============================] - 2s 42ms/step - loss: 1.4523 - accuracy: 0.5770 - val_loss: 0.6522 - val_accuracy: 0.5217\n",
      "Epoch 2/150\n",
      "13/13 [==============================] - 0s 7ms/step - loss: 1.5664 - accuracy: 0.5795 - val_loss: 0.5712 - val_accuracy: 0.5870\n",
      "Epoch 3/150\n",
      "13/13 [==============================] - 0s 9ms/step - loss: 1.4308 - accuracy: 0.6235 - val_loss: 0.5201 - val_accuracy: 0.7174\n",
      "Epoch 4/150\n",
      "13/13 [==============================] - 0s 9ms/step - loss: 1.4543 - accuracy: 0.6357 - val_loss: 0.4852 - val_accuracy: 0.7826\n",
      "Epoch 5/150\n",
      "13/13 [==============================] - 0s 8ms/step - loss: 1.2095 - accuracy: 0.6993 - val_loss: 0.4586 - val_accuracy: 0.8696\n",
      "Epoch 6/150\n",
      "13/13 [==============================] - 0s 4ms/step - loss: 1.2565 - accuracy: 0.7408 - val_loss: 0.4343 - val_accuracy: 0.8696\n",
      "Epoch 7/150\n",
      "13/13 [==============================] - 0s 5ms/step - loss: 1.2356 - accuracy: 0.7922 - val_loss: 0.4092 - val_accuracy: 0.8913\n",
      "Epoch 8/150\n",
      "13/13 [==============================] - 0s 6ms/step - loss: 1.3326 - accuracy: 0.8411 - val_loss: 0.3812 - val_accuracy: 0.9348\n",
      "Epoch 9/150\n",
      "13/13 [==============================] - 0s 6ms/step - loss: 1.0293 - accuracy: 0.8826 - val_loss: 0.3568 - val_accuracy: 0.9348\n",
      "Epoch 10/150\n",
      "13/13 [==============================] - 0s 6ms/step - loss: 1.3074 - accuracy: 0.8729 - val_loss: 0.3329 - val_accuracy: 0.9348\n",
      "Epoch 11/150\n",
      "13/13 [==============================] - 0s 6ms/step - loss: 1.3210 - accuracy: 0.8826 - val_loss: 0.3093 - val_accuracy: 0.9348\n",
      "Epoch 12/150\n",
      "13/13 [==============================] - 0s 5ms/step - loss: 1.0334 - accuracy: 0.9095 - val_loss: 0.2872 - val_accuracy: 0.9348\n",
      "Epoch 13/150\n",
      "13/13 [==============================] - 0s 6ms/step - loss: 1.0907 - accuracy: 0.9071 - val_loss: 0.2666 - val_accuracy: 0.9348\n",
      "Epoch 14/150\n",
      "13/13 [==============================] - 0s 6ms/step - loss: 1.0780 - accuracy: 0.9095 - val_loss: 0.2504 - val_accuracy: 0.9348\n",
      "Epoch 15/150\n",
      "13/13 [==============================] - 0s 6ms/step - loss: 0.8834 - accuracy: 0.9193 - val_loss: 0.2344 - val_accuracy: 0.9130\n",
      "Epoch 16/150\n",
      "13/13 [==============================] - 0s 6ms/step - loss: 0.8687 - accuracy: 0.9193 - val_loss: 0.2203 - val_accuracy: 0.9130\n",
      "Epoch 17/150\n",
      "13/13 [==============================] - 0s 6ms/step - loss: 1.2353 - accuracy: 0.8998 - val_loss: 0.2084 - val_accuracy: 0.9130\n",
      "Epoch 18/150\n",
      "13/13 [==============================] - 0s 7ms/step - loss: 1.0407 - accuracy: 0.9120 - val_loss: 0.1984 - val_accuracy: 0.9130\n",
      "Epoch 19/150\n",
      "13/13 [==============================] - 0s 7ms/step - loss: 1.2638 - accuracy: 0.8949 - val_loss: 0.1906 - val_accuracy: 0.9348\n",
      "Epoch 20/150\n",
      "13/13 [==============================] - 0s 10ms/step - loss: 1.2553 - accuracy: 0.8973 - val_loss: 0.1831 - val_accuracy: 0.9348\n",
      "Epoch 21/150\n",
      "13/13 [==============================] - 0s 9ms/step - loss: 1.2141 - accuracy: 0.8998 - val_loss: 0.1773 - val_accuracy: 0.9348\n",
      "Epoch 22/150\n",
      "13/13 [==============================] - 0s 8ms/step - loss: 1.2088 - accuracy: 0.9022 - val_loss: 0.1716 - val_accuracy: 0.9348\n",
      "Epoch 23/150\n",
      "13/13 [==============================] - 0s 6ms/step - loss: 0.9031 - accuracy: 0.9218 - val_loss: 0.1647 - val_accuracy: 0.9348\n",
      "Epoch 24/150\n",
      "13/13 [==============================] - 0s 8ms/step - loss: 1.5816 - accuracy: 0.8778 - val_loss: 0.1616 - val_accuracy: 0.9348\n",
      "Epoch 25/150\n",
      "13/13 [==============================] - 0s 6ms/step - loss: 0.9734 - accuracy: 0.9193 - val_loss: 0.1569 - val_accuracy: 0.9348\n",
      "Epoch 26/150\n",
      "13/13 [==============================] - 0s 8ms/step - loss: 0.9294 - accuracy: 0.9242 - val_loss: 0.1538 - val_accuracy: 0.9348\n",
      "Epoch 27/150\n",
      "13/13 [==============================] - 0s 7ms/step - loss: 1.0778 - accuracy: 0.9144 - val_loss: 0.1512 - val_accuracy: 0.9348\n",
      "Epoch 28/150\n",
      "13/13 [==============================] - 0s 7ms/step - loss: 1.0031 - accuracy: 0.9169 - val_loss: 0.1484 - val_accuracy: 0.9348\n",
      "Epoch 29/150\n",
      "13/13 [==============================] - 0s 8ms/step - loss: 1.1502 - accuracy: 0.9095 - val_loss: 0.1454 - val_accuracy: 0.9348\n",
      "Epoch 30/150\n",
      "13/13 [==============================] - 0s 7ms/step - loss: 1.0661 - accuracy: 0.9169 - val_loss: 0.1438 - val_accuracy: 0.9348\n",
      "Epoch 31/150\n",
      "13/13 [==============================] - 0s 7ms/step - loss: 0.9534 - accuracy: 0.9242 - val_loss: 0.1409 - val_accuracy: 0.9348\n",
      "Epoch 32/150\n",
      "13/13 [==============================] - 0s 7ms/step - loss: 1.0620 - accuracy: 0.9218 - val_loss: 0.1379 - val_accuracy: 0.9348\n",
      "Epoch 33/150\n",
      "13/13 [==============================] - 0s 8ms/step - loss: 1.0620 - accuracy: 0.9193 - val_loss: 0.1357 - val_accuracy: 0.9348\n",
      "Epoch 34/150\n",
      "13/13 [==============================] - 0s 6ms/step - loss: 1.0669 - accuracy: 0.9193 - val_loss: 0.1359 - val_accuracy: 0.9348\n",
      "Epoch 35/150\n",
      "13/13 [==============================] - 0s 8ms/step - loss: 0.9485 - accuracy: 0.9291 - val_loss: 0.1346 - val_accuracy: 0.9348\n",
      "Epoch 36/150\n",
      "13/13 [==============================] - 0s 8ms/step - loss: 1.1719 - accuracy: 0.9144 - val_loss: 0.1334 - val_accuracy: 0.9348\n",
      "Epoch 37/150\n",
      "13/13 [==============================] - 0s 8ms/step - loss: 1.1731 - accuracy: 0.9120 - val_loss: 0.1317 - val_accuracy: 0.9348\n",
      "Epoch 38/150\n",
      "13/13 [==============================] - 0s 7ms/step - loss: 0.7188 - accuracy: 0.9413 - val_loss: 0.1284 - val_accuracy: 0.9348\n",
      "Epoch 39/150\n",
      "13/13 [==============================] - 0s 7ms/step - loss: 0.9392 - accuracy: 0.9340 - val_loss: 0.1281 - val_accuracy: 0.9348\n",
      "Epoch 40/150\n",
      "13/13 [==============================] - 0s 7ms/step - loss: 1.0179 - accuracy: 0.9242 - val_loss: 0.1262 - val_accuracy: 0.9348\n",
      "Epoch 41/150\n",
      "13/13 [==============================] - 0s 7ms/step - loss: 1.2768 - accuracy: 0.9095 - val_loss: 0.1260 - val_accuracy: 0.9348\n",
      "Epoch 42/150\n",
      "13/13 [==============================] - 0s 6ms/step - loss: 0.7872 - accuracy: 0.9389 - val_loss: 0.1264 - val_accuracy: 0.9348\n",
      "Epoch 43/150\n",
      "13/13 [==============================] - 0s 4ms/step - loss: 1.0865 - accuracy: 0.9218 - val_loss: 0.1247 - val_accuracy: 0.9348\n",
      "Epoch 44/150\n",
      "13/13 [==============================] - 0s 5ms/step - loss: 0.7080 - accuracy: 0.9462 - val_loss: 0.1228 - val_accuracy: 0.9348\n",
      "Epoch 45/150\n",
      "13/13 [==============================] - 0s 5ms/step - loss: 0.7121 - accuracy: 0.9438 - val_loss: 0.1219 - val_accuracy: 0.9348\n",
      "Epoch 46/150\n",
      "13/13 [==============================] - 0s 4ms/step - loss: 1.1635 - accuracy: 0.9144 - val_loss: 0.1211 - val_accuracy: 0.9348\n",
      "Epoch 47/150\n",
      "13/13 [==============================] - 0s 4ms/step - loss: 1.1603 - accuracy: 0.9169 - val_loss: 0.1198 - val_accuracy: 0.9348\n",
      "Epoch 48/150\n",
      "13/13 [==============================] - 0s 4ms/step - loss: 1.2736 - accuracy: 0.9120 - val_loss: 0.1182 - val_accuracy: 0.9348\n",
      "Epoch 49/150\n",
      "13/13 [==============================] - 0s 4ms/step - loss: 1.3500 - accuracy: 0.9046 - val_loss: 0.1154 - val_accuracy: 0.9348\n",
      "Epoch 50/150\n",
      "13/13 [==============================] - 0s 6ms/step - loss: 1.0450 - accuracy: 0.9242 - val_loss: 0.1145 - val_accuracy: 0.9348\n",
      "Epoch 51/150\n",
      "13/13 [==============================] - 0s 4ms/step - loss: 0.7798 - accuracy: 0.9413 - val_loss: 0.1141 - val_accuracy: 0.9348\n",
      "Epoch 52/150\n",
      "13/13 [==============================] - 0s 6ms/step - loss: 1.0834 - accuracy: 0.9218 - val_loss: 0.1138 - val_accuracy: 0.9348\n",
      "Epoch 53/150\n",
      "13/13 [==============================] - 0s 6ms/step - loss: 0.8556 - accuracy: 0.9389 - val_loss: 0.1113 - val_accuracy: 0.9348\n",
      "Epoch 54/150\n",
      "13/13 [==============================] - 0s 6ms/step - loss: 0.6295 - accuracy: 0.9535 - val_loss: 0.1087 - val_accuracy: 0.9348\n",
      "Epoch 55/150\n",
      "13/13 [==============================] - 0s 7ms/step - loss: 1.0425 - accuracy: 0.9242 - val_loss: 0.1066 - val_accuracy: 0.9348\n",
      "Epoch 56/150\n",
      "13/13 [==============================] - 0s 6ms/step - loss: 1.3787 - accuracy: 0.9046 - val_loss: 0.1084 - val_accuracy: 0.9348\n",
      "Epoch 57/150\n",
      "13/13 [==============================] - 0s 5ms/step - loss: 0.7383 - accuracy: 0.9462 - val_loss: 0.1062 - val_accuracy: 0.9348\n",
      "Epoch 58/150\n",
      "13/13 [==============================] - 0s 5ms/step - loss: 0.9259 - accuracy: 0.9364 - val_loss: 0.1059 - val_accuracy: 0.9348\n",
      "Epoch 59/150\n",
      "13/13 [==============================] - 0s 5ms/step - loss: 1.0787 - accuracy: 0.9242 - val_loss: 0.1056 - val_accuracy: 0.9348\n",
      "Epoch 60/150\n",
      "13/13 [==============================] - 0s 6ms/step - loss: 0.9268 - accuracy: 0.9340 - val_loss: 0.1045 - val_accuracy: 0.9565\n",
      "Epoch 61/150\n",
      "13/13 [==============================] - 0s 6ms/step - loss: 1.1870 - accuracy: 0.9193 - val_loss: 0.1055 - val_accuracy: 0.9348\n",
      "Epoch 62/150\n",
      "13/13 [==============================] - 0s 5ms/step - loss: 1.4915 - accuracy: 0.8973 - val_loss: 0.1070 - val_accuracy: 0.9348\n",
      "Epoch 63/150\n",
      "13/13 [==============================] - 0s 5ms/step - loss: 0.4735 - accuracy: 0.9633 - val_loss: 0.1047 - val_accuracy: 0.9348\n",
      "Epoch 64/150\n",
      "13/13 [==============================] - 0s 6ms/step - loss: 0.9625 - accuracy: 0.9315 - val_loss: 0.1027 - val_accuracy: 0.9565\n",
      "Epoch 65/150\n",
      "13/13 [==============================] - 0s 6ms/step - loss: 1.1133 - accuracy: 0.9218 - val_loss: 0.1022 - val_accuracy: 0.9565\n",
      "Epoch 66/150\n",
      "13/13 [==============================] - 0s 6ms/step - loss: 1.1122 - accuracy: 0.9242 - val_loss: 0.0994 - val_accuracy: 0.9565\n",
      "Epoch 67/150\n",
      "13/13 [==============================] - 0s 6ms/step - loss: 0.6928 - accuracy: 0.9560 - val_loss: 0.1015 - val_accuracy: 0.9565\n",
      "Epoch 68/150\n",
      "13/13 [==============================] - 0s 8ms/step - loss: 0.9993 - accuracy: 0.9315 - val_loss: 0.1019 - val_accuracy: 0.9348\n",
      "Epoch 69/150\n",
      "13/13 [==============================] - 0s 5ms/step - loss: 0.9593 - accuracy: 0.9340 - val_loss: 0.0988 - val_accuracy: 0.9565\n",
      "Epoch 70/150\n",
      "13/13 [==============================] - 0s 5ms/step - loss: 0.6962 - accuracy: 0.9511 - val_loss: 0.0983 - val_accuracy: 0.9565\n",
      "Epoch 71/150\n",
      "13/13 [==============================] - 0s 5ms/step - loss: 0.9971 - accuracy: 0.9315 - val_loss: 0.0998 - val_accuracy: 0.9565\n",
      "Epoch 72/150\n",
      "13/13 [==============================] - 0s 5ms/step - loss: 1.0320 - accuracy: 0.9315 - val_loss: 0.0981 - val_accuracy: 0.9565\n",
      "Epoch 73/150\n",
      "13/13 [==============================] - 0s 6ms/step - loss: 1.2198 - accuracy: 0.9169 - val_loss: 0.0973 - val_accuracy: 0.9565\n",
      "Epoch 74/150\n",
      "13/13 [==============================] - 0s 5ms/step - loss: 1.0703 - accuracy: 0.9267 - val_loss: 0.0947 - val_accuracy: 0.9565\n",
      "Epoch 75/150\n",
      "13/13 [==============================] - 0s 6ms/step - loss: 1.0332 - accuracy: 0.9291 - val_loss: 0.0946 - val_accuracy: 0.9565\n",
      "Epoch 76/150\n",
      "13/13 [==============================] - 0s 5ms/step - loss: 0.9173 - accuracy: 0.9389 - val_loss: 0.0935 - val_accuracy: 0.9565\n",
      "Epoch 77/150\n",
      "13/13 [==============================] - 0s 5ms/step - loss: 0.8444 - accuracy: 0.9413 - val_loss: 0.0953 - val_accuracy: 0.9565\n",
      "Epoch 78/150\n",
      "13/13 [==============================] - 0s 6ms/step - loss: 1.1079 - accuracy: 0.9242 - val_loss: 0.0938 - val_accuracy: 0.9565\n",
      "Epoch 79/150\n",
      "13/13 [==============================] - 0s 5ms/step - loss: 0.9920 - accuracy: 0.9340 - val_loss: 0.0927 - val_accuracy: 0.9565\n",
      "Epoch 80/150\n",
      "13/13 [==============================] - 0s 5ms/step - loss: 0.9182 - accuracy: 0.9364 - val_loss: 0.0912 - val_accuracy: 0.9565\n",
      "Epoch 81/150\n",
      "13/13 [==============================] - 0s 5ms/step - loss: 0.9941 - accuracy: 0.9315 - val_loss: 0.0921 - val_accuracy: 0.9565\n",
      "Epoch 82/150\n",
      "13/13 [==============================] - 0s 6ms/step - loss: 0.9189 - accuracy: 0.9389 - val_loss: 0.0898 - val_accuracy: 0.9565\n",
      "Epoch 83/150\n",
      "13/13 [==============================] - 0s 5ms/step - loss: 0.9921 - accuracy: 0.9340 - val_loss: 0.0901 - val_accuracy: 0.9565\n",
      "Epoch 84/150\n",
      "13/13 [==============================] - 0s 6ms/step - loss: 0.9932 - accuracy: 0.9315 - val_loss: 0.0915 - val_accuracy: 0.9565\n",
      "Epoch 85/150\n",
      "13/13 [==============================] - 0s 7ms/step - loss: 0.8806 - accuracy: 0.9389 - val_loss: 0.0891 - val_accuracy: 0.9565\n",
      "Epoch 86/150\n",
      "13/13 [==============================] - 0s 5ms/step - loss: 1.0678 - accuracy: 0.9291 - val_loss: 0.0905 - val_accuracy: 0.9565\n",
      "Epoch 87/150\n",
      "13/13 [==============================] - 0s 6ms/step - loss: 0.9548 - accuracy: 0.9364 - val_loss: 0.0917 - val_accuracy: 0.9565\n",
      "Epoch 88/150\n",
      "13/13 [==============================] - 0s 7ms/step - loss: 1.1414 - accuracy: 0.9242 - val_loss: 0.0930 - val_accuracy: 0.9565\n",
      "Epoch 89/150\n",
      "13/13 [==============================] - 0s 5ms/step - loss: 0.8024 - accuracy: 0.9462 - val_loss: 0.0898 - val_accuracy: 0.9565\n",
      "Epoch 90/150\n",
      "13/13 [==============================] - 0s 6ms/step - loss: 1.0280 - accuracy: 0.9315 - val_loss: 0.0892 - val_accuracy: 0.9565\n",
      "Epoch 91/150\n",
      "13/13 [==============================] - 0s 5ms/step - loss: 0.8392 - accuracy: 0.9438 - val_loss: 0.0875 - val_accuracy: 0.9565\n",
      "Epoch 92/150\n",
      "13/13 [==============================] - 0s 6ms/step - loss: 0.9914 - accuracy: 0.9340 - val_loss: 0.0879 - val_accuracy: 0.9565\n",
      "Epoch 93/150\n",
      "13/13 [==============================] - 0s 5ms/step - loss: 1.1414 - accuracy: 0.9242 - val_loss: 0.0871 - val_accuracy: 0.9565\n",
      "Epoch 94/150\n",
      "13/13 [==============================] - 0s 5ms/step - loss: 0.8783 - accuracy: 0.9413 - val_loss: 0.0862 - val_accuracy: 0.9565\n",
      "Epoch 95/150\n",
      "13/13 [==============================] - 0s 6ms/step - loss: 0.8782 - accuracy: 0.9413 - val_loss: 0.0870 - val_accuracy: 0.9565\n",
      "Epoch 96/150\n",
      "13/13 [==============================] - 0s 5ms/step - loss: 1.1040 - accuracy: 0.9291 - val_loss: 0.0853 - val_accuracy: 0.9565\n",
      "Epoch 97/150\n",
      "13/13 [==============================] - 0s 5ms/step - loss: 1.3284 - accuracy: 0.9144 - val_loss: 0.0864 - val_accuracy: 0.9565\n",
      "Epoch 98/150\n",
      "13/13 [==============================] - 0s 7ms/step - loss: 0.7645 - accuracy: 0.9487 - val_loss: 0.0880 - val_accuracy: 0.9565\n",
      "Epoch 99/150\n",
      "13/13 [==============================] - 0s 5ms/step - loss: 0.9133 - accuracy: 0.9413 - val_loss: 0.0873 - val_accuracy: 0.9565\n",
      "Epoch 100/150\n",
      "13/13 [==============================] - 0s 6ms/step - loss: 1.0261 - accuracy: 0.9340 - val_loss: 0.0834 - val_accuracy: 0.9565\n",
      "Epoch 101/150\n",
      "13/13 [==============================] - 0s 6ms/step - loss: 1.1782 - accuracy: 0.9218 - val_loss: 0.0837 - val_accuracy: 0.9565\n",
      "Epoch 102/150\n",
      "13/13 [==============================] - 0s 6ms/step - loss: 1.1407 - accuracy: 0.9242 - val_loss: 0.0820 - val_accuracy: 0.9565\n",
      "Epoch 103/150\n",
      "13/13 [==============================] - 0s 5ms/step - loss: 0.8762 - accuracy: 0.9413 - val_loss: 0.0815 - val_accuracy: 0.9565\n",
      "Epoch 104/150\n",
      "13/13 [==============================] - 0s 5ms/step - loss: 0.7616 - accuracy: 0.9511 - val_loss: 0.0805 - val_accuracy: 0.9565\n",
      "Epoch 105/150\n",
      "13/13 [==============================] - 0s 6ms/step - loss: 1.1021 - accuracy: 0.9291 - val_loss: 0.0785 - val_accuracy: 0.9565\n",
      "Epoch 106/150\n",
      "13/13 [==============================] - 0s 5ms/step - loss: 1.1392 - accuracy: 0.9267 - val_loss: 0.0796 - val_accuracy: 0.9565\n",
      "Epoch 107/150\n",
      "13/13 [==============================] - 0s 5ms/step - loss: 1.2905 - accuracy: 0.9169 - val_loss: 0.0789 - val_accuracy: 0.9565\n",
      "Epoch 108/150\n",
      "13/13 [==============================] - 0s 6ms/step - loss: 0.9889 - accuracy: 0.9364 - val_loss: 0.0774 - val_accuracy: 0.9565\n",
      "Epoch 109/150\n",
      "13/13 [==============================] - 0s 5ms/step - loss: 0.9508 - accuracy: 0.9389 - val_loss: 0.0780 - val_accuracy: 0.9565\n",
      "Epoch 110/150\n",
      "13/13 [==============================] - 0s 5ms/step - loss: 1.0639 - accuracy: 0.9315 - val_loss: 0.0762 - val_accuracy: 0.9565\n",
      "Epoch 111/150\n",
      "13/13 [==============================] - 0s 6ms/step - loss: 0.9117 - accuracy: 0.9413 - val_loss: 0.0765 - val_accuracy: 0.9565\n",
      "Epoch 112/150\n",
      "13/13 [==============================] - 0s 6ms/step - loss: 0.6485 - accuracy: 0.9584 - val_loss: 0.0783 - val_accuracy: 0.9565\n",
      "Epoch 113/150\n",
      "13/13 [==============================] - 0s 6ms/step - loss: 1.0633 - accuracy: 0.9315 - val_loss: 0.0769 - val_accuracy: 0.9565\n",
      "Epoch 114/150\n",
      "13/13 [==============================] - 0s 5ms/step - loss: 0.9113 - accuracy: 0.9413 - val_loss: 0.0751 - val_accuracy: 0.9783\n",
      "Epoch 115/150\n",
      "13/13 [==============================] - 0s 5ms/step - loss: 1.1752 - accuracy: 0.9242 - val_loss: 0.0718 - val_accuracy: 0.9783\n",
      "Epoch 116/150\n",
      "13/13 [==============================] - 0s 5ms/step - loss: 1.2515 - accuracy: 0.9193 - val_loss: 0.0730 - val_accuracy: 0.9783\n",
      "Epoch 117/150\n",
      "13/13 [==============================] - 0s 5ms/step - loss: 1.2501 - accuracy: 0.9193 - val_loss: 0.0708 - val_accuracy: 0.9783\n",
      "Epoch 118/150\n",
      "13/13 [==============================] - 0s 5ms/step - loss: 1.2130 - accuracy: 0.9218 - val_loss: 0.0718 - val_accuracy: 0.9783\n",
      "Epoch 119/150\n",
      "13/13 [==============================] - 0s 6ms/step - loss: 1.0621 - accuracy: 0.9315 - val_loss: 0.0712 - val_accuracy: 0.9783\n",
      "Epoch 120/150\n",
      "13/13 [==============================] - 0s 5ms/step - loss: 0.9114 - accuracy: 0.9413 - val_loss: 0.0694 - val_accuracy: 0.9783\n",
      "Epoch 121/150\n",
      "13/13 [==============================] - 0s 5ms/step - loss: 1.2872 - accuracy: 0.9169 - val_loss: 0.0702 - val_accuracy: 0.9783\n",
      "Epoch 122/150\n",
      "13/13 [==============================] - 0s 6ms/step - loss: 1.3616 - accuracy: 0.9120 - val_loss: 0.0690 - val_accuracy: 0.9783\n",
      "Epoch 123/150\n",
      "13/13 [==============================] - 0s 5ms/step - loss: 0.9094 - accuracy: 0.9413 - val_loss: 0.0702 - val_accuracy: 0.9783\n",
      "Epoch 124/150\n",
      "13/13 [==============================] - 0s 5ms/step - loss: 0.9479 - accuracy: 0.9389 - val_loss: 0.0730 - val_accuracy: 0.9783\n",
      "Epoch 125/150\n",
      "13/13 [==============================] - 0s 5ms/step - loss: 0.7956 - accuracy: 0.9487 - val_loss: 0.0718 - val_accuracy: 0.9783\n",
      "Epoch 126/150\n",
      "13/13 [==============================] - 0s 5ms/step - loss: 1.0617 - accuracy: 0.9315 - val_loss: 0.0693 - val_accuracy: 0.9783\n",
      "Epoch 127/150\n",
      "13/13 [==============================] - 0s 5ms/step - loss: 0.9106 - accuracy: 0.9413 - val_loss: 0.0716 - val_accuracy: 0.9783\n",
      "Epoch 128/150\n",
      "13/13 [==============================] - 0s 5ms/step - loss: 0.9856 - accuracy: 0.9364 - val_loss: 0.0702 - val_accuracy: 0.9783\n",
      "Epoch 129/150\n",
      "13/13 [==============================] - 0s 5ms/step - loss: 0.8727 - accuracy: 0.9438 - val_loss: 0.0678 - val_accuracy: 0.9783\n",
      "Epoch 130/150\n",
      "13/13 [==============================] - 0s 6ms/step - loss: 1.1353 - accuracy: 0.9267 - val_loss: 0.0682 - val_accuracy: 0.9783\n",
      "Epoch 131/150\n",
      "13/13 [==============================] - 0s 6ms/step - loss: 1.2872 - accuracy: 0.9169 - val_loss: 0.0675 - val_accuracy: 0.9783\n",
      "Epoch 132/150\n",
      "13/13 [==============================] - 0s 6ms/step - loss: 0.9854 - accuracy: 0.9364 - val_loss: 0.0663 - val_accuracy: 0.9783\n",
      "Epoch 133/150\n",
      "13/13 [==============================] - 0s 6ms/step - loss: 0.7585 - accuracy: 0.9511 - val_loss: 0.0682 - val_accuracy: 0.9783\n",
      "Epoch 134/150\n",
      "13/13 [==============================] - 0s 6ms/step - loss: 1.1724 - accuracy: 0.9242 - val_loss: 0.0674 - val_accuracy: 0.9783\n",
      "Epoch 135/150\n",
      "13/13 [==============================] - 0s 6ms/step - loss: 1.3617 - accuracy: 0.9120 - val_loss: 0.0680 - val_accuracy: 0.9783\n",
      "Epoch 136/150\n",
      "13/13 [==============================] - 0s 6ms/step - loss: 0.8337 - accuracy: 0.9462 - val_loss: 0.0678 - val_accuracy: 0.9783\n",
      "Epoch 137/150\n",
      "13/13 [==============================] - 0s 5ms/step - loss: 0.9470 - accuracy: 0.9389 - val_loss: 0.0668 - val_accuracy: 0.9783\n",
      "Epoch 138/150\n",
      "13/13 [==============================] - 0s 6ms/step - loss: 0.7963 - accuracy: 0.9487 - val_loss: 0.0665 - val_accuracy: 0.9783\n",
      "Epoch 139/150\n",
      "13/13 [==============================] - 0s 6ms/step - loss: 1.0601 - accuracy: 0.9315 - val_loss: 0.0656 - val_accuracy: 0.9783\n",
      "Epoch 140/150\n",
      "13/13 [==============================] - 0s 5ms/step - loss: 1.1732 - accuracy: 0.9242 - val_loss: 0.0651 - val_accuracy: 0.9783\n",
      "Epoch 141/150\n",
      "13/13 [==============================] - 0s 5ms/step - loss: 1.3611 - accuracy: 0.9120 - val_loss: 0.0653 - val_accuracy: 0.9783\n",
      "Epoch 142/150\n",
      "13/13 [==============================] - 0s 5ms/step - loss: 1.2093 - accuracy: 0.9218 - val_loss: 0.0664 - val_accuracy: 0.9783\n",
      "Epoch 143/150\n",
      "13/13 [==============================] - 0s 6ms/step - loss: 0.9089 - accuracy: 0.9413 - val_loss: 0.0661 - val_accuracy: 0.9783\n",
      "Epoch 144/150\n",
      "13/13 [==============================] - 0s 6ms/step - loss: 0.8710 - accuracy: 0.9438 - val_loss: 0.0633 - val_accuracy: 0.9783\n",
      "Epoch 145/150\n",
      "13/13 [==============================] - 0s 6ms/step - loss: 0.5694 - accuracy: 0.9633 - val_loss: 0.0664 - val_accuracy: 0.9783\n",
      "Epoch 146/150\n",
      "13/13 [==============================] - 0s 5ms/step - loss: 0.9838 - accuracy: 0.9364 - val_loss: 0.0629 - val_accuracy: 0.9783\n",
      "Epoch 147/150\n",
      "13/13 [==============================] - 0s 5ms/step - loss: 1.0217 - accuracy: 0.9340 - val_loss: 0.0617 - val_accuracy: 0.9783\n",
      "Epoch 148/150\n",
      "13/13 [==============================] - 0s 6ms/step - loss: 1.2477 - accuracy: 0.9193 - val_loss: 0.0626 - val_accuracy: 0.9783\n",
      "Epoch 149/150\n",
      "13/13 [==============================] - 0s 6ms/step - loss: 0.7948 - accuracy: 0.9487 - val_loss: 0.0633 - val_accuracy: 0.9783\n",
      "Epoch 150/150\n",
      "13/13 [==============================] - 0s 5ms/step - loss: 0.8327 - accuracy: 0.9462 - val_loss: 0.0624 - val_accuracy: 0.9783\n"
     ]
    },
    {
     "data": {
      "text/plain": [
       "<keras.src.callbacks.History at 0x7c537db05cf0>"
      ]
     },
     "execution_count": 49,
     "metadata": {},
     "output_type": "execute_result"
    }
   ],
   "source": [
    "model.fit(X_train, y_train,\n",
    "          epochs=150, batch_size=32,\n",
    "          validation_split=0.1, verbose=1)\n",
    "\n",
    "# Determining the Right Batch Size for a Neural Network to Get Better and Faster Results @ Medium"
   ]
  },
  {
   "cell_type": "markdown",
   "metadata": {
    "id": "mXL4RIvJFq6M"
   },
   "source": [
    "# Step 5 Evaluate Performance:\n",
    "Calculate and print\n",
    "metrics: Accuracy Precision Recall Visualize"
   ]
  },
  {
   "cell_type": "code",
   "execution_count": 50,
   "metadata": {
    "colab": {
     "base_uri": "https://localhost:8080/"
    },
    "id": "iYchea_pM71D",
    "outputId": "069f321b-8f08-477d-b8ae-2d09d8dd3a6d"
   },
   "outputs": [
    {
     "name": "stdout",
     "output_type": "stream",
     "text": [
      "4/4 [==============================] - 0s 3ms/step\n"
     ]
    }
   ],
   "source": [
    "y_pred = model.predict(X_test)\n",
    "y_pred = (y_pred > 0.5)"
   ]
  },
  {
   "cell_type": "code",
   "execution_count": 51,
   "metadata": {
    "colab": {
     "base_uri": "https://localhost:8080/"
    },
    "id": "T7LLquFJD_0R",
    "outputId": "ca880189-1746-4125-ce04-63e0cdbb1bbf"
   },
   "outputs": [
    {
     "name": "stdout",
     "output_type": "stream",
     "text": [
      "accuracy: 97.368421\n",
      "precision: 97.402597\n",
      "recall: 98.684211\n"
     ]
    }
   ],
   "source": [
    "accuracy = accuracy_score(y_test, y_pred)\n",
    "print('accuracy:% 2f'% (accuracy*100))\n",
    "precision = precision_score(y_test, y_pred)\n",
    "print('precision:% 2f'% (precision*100))\n",
    "recall = recall_score(y_test, y_pred)\n",
    "print('recall:% 2f'% (recall*100))"
   ]
  },
  {
   "cell_type": "markdown",
   "metadata": {
    "id": "P6gyNwxrMRCn"
   },
   "source": [
    "Confusion Matrix: Visualize the\n",
    "confusion matrix to gain insights into the models performance. Use a heatmap\n",
    "for better clarity."
   ]
  },
  {
   "cell_type": "code",
   "execution_count": 52,
   "metadata": {
    "colab": {
     "base_uri": "https://localhost:8080/",
     "height": 718
    },
    "id": "IqV5ZBh5Mauw",
    "outputId": "4bf7b3ac-5249-4c86-d624-7f8630cd5038"
   },
   "outputs": [
    {
     "data": {
      "image/png": "[encoded data removed]",
      "text/plain": [
       "<Figure size 1000x800 with 2 Axes>"
      ]
     },
     "metadata": {},
     "output_type": "display_data"
    }
   ],
   "source": [
    "matrix = confusion_matrix(y_test, y_pred)\n",
    "plt.figure(figsize=(10, 8))\n",
    "sns.heatmap(matrix, annot=True, fmt='d', xticklabels=['Benign', 'Malignant'], yticklabels=['Benign', 'Malignant'])\n",
    "plt.xlabel('Predicted')\n",
    "plt.ylabel('Actual')\n",
    "plt.title('Confusion Matrix')\n",
    "plt.show()"
   ]
  }
 ],
 "metadata": {
  "colab": {
   "provenance": []
  },
  "kernelspec": {
   "display_name": "Python 3 (ipykernel)",
   "language": "python",
   "name": "python3"
  },
  "language_info": {
   "codemirror_mode": {
    "name": "ipython",
    "version": 3
   },
   "file_extension": ".py",
   "mimetype": "text/x-python",
   "name": "python",
   "nbconvert_exporter": "python",
   "pygments_lexer": "ipython3",
   "version": "3.10.13"
  }
 },
 "nbformat": 4,
 "nbformat_minor": 4
}
